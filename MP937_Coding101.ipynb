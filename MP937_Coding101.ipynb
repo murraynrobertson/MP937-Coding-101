{
 "cells": [
  {
   "cell_type": "markdown",
   "metadata": {},
   "source": [
    "# MP937 Coding 101\n",
    "\n",
    "Murray Robertson\n",
    "\n",
    "murray.robertson@strath.ac.uk"
   ]
  },
  {
   "cell_type": "markdown",
   "metadata": {},
   "source": [
    "# Exercise 1\n",
    "Make Python return \"hello\""
   ]
  },
  {
   "cell_type": "code",
   "execution_count": null,
   "metadata": {},
   "outputs": [],
   "source": []
  },
  {
   "cell_type": "markdown",
   "metadata": {},
   "source": [
    "# Exercise 2\n",
    "\n",
    "create and print a variable with a value of “11” (with quotes)\n",
    "\n",
    "add 1 to your variable\n",
    "\n",
    "add your variable to itself\n"
   ]
  },
  {
   "cell_type": "code",
   "execution_count": null,
   "metadata": {},
   "outputs": [],
   "source": []
  },
  {
   "cell_type": "markdown",
   "metadata": {},
   "source": [
    "# Exercise 3\n",
    "\n",
    "Create a variable with a value of 5 and print it (no quotes)\n",
    "\n",
    "Create a second variable with a value of 3 (no quotes)\n",
    "\n",
    "Print the sum of the two variables"
   ]
  },
  {
   "cell_type": "code",
   "execution_count": null,
   "metadata": {},
   "outputs": [],
   "source": []
  },
  {
   "cell_type": "markdown",
   "metadata": {},
   "source": [
    "# Exercise 4\n",
    "\n",
    "Example create a list containing seven items\n",
    "\n",
    "Print the list\n",
    "\n",
    "Print the second item in the list only"
   ]
  },
  {
   "cell_type": "code",
   "execution_count": null,
   "metadata": {},
   "outputs": [],
   "source": []
  },
  {
   "cell_type": "markdown",
   "metadata": {},
   "source": [
    "# Exercise 5\n",
    "\n",
    "Individually print each item in your list "
   ]
  },
  {
   "cell_type": "code",
   "execution_count": null,
   "metadata": {},
   "outputs": [],
   "source": []
  },
  {
   "cell_type": "markdown",
   "metadata": {},
   "source": [
    "# Exercise 6\n",
    "\n",
    "Create variables A and B as integers\n",
    "\n",
    "Create an if statement to print if A is greater then B or not"
   ]
  },
  {
   "cell_type": "code",
   "execution_count": null,
   "metadata": {},
   "outputs": [],
   "source": []
  },
  {
   "attachments": {},
   "cell_type": "markdown",
   "metadata": {},
   "source": [
    "# Exercise 7\n",
    "\n",
    "run “print(os.getcwd())” \n",
    "\n",
    "This will give you an error “NameError: name 'os' is not defined”\n",
    "\n",
    "add “import os” the top of the script first then run again"
   ]
  },
  {
   "cell_type": "code",
   "execution_count": null,
   "metadata": {},
   "outputs": [],
   "source": []
  },
  {
   "attachments": {},
   "cell_type": "markdown",
   "metadata": {},
   "source": [
    "# Exercise 8\n",
    "\n",
    "Create a variable to the data folder \n",
    "\n",
    "    datadir = os.getcwd()+'//data’\n",
    "\n",
    "Change the working directory to this folder\n",
    "\n",
    "Create a variable containing a line of file “test_dog.txt” and print this and iterate over the whole file"
   ]
  },
  {
   "cell_type": "code",
   "execution_count": null,
   "metadata": {
    "scrolled": true
   },
   "outputs": [],
   "source": []
  },
  {
   "cell_type": "markdown",
   "metadata": {},
   "source": [
    "# Exercise 9\n",
    "\n",
    "Copy and edit the the above script to read every file in directory and print"
   ]
  },
  {
   "cell_type": "code",
   "execution_count": null,
   "metadata": {},
   "outputs": [],
   "source": []
  },
  {
   "attachments": {},
   "cell_type": "markdown",
   "metadata": {},
   "source": [
    " # Exercise 10 - String Matching\n",
    " \n",
    "Copy and edit the above code to only open files that start with \"test\""
   ]
  },
  {
   "cell_type": "code",
   "execution_count": null,
   "metadata": {},
   "outputs": [],
   "source": []
  },
  {
   "cell_type": "markdown",
   "metadata": {},
   "source": [
    "# Exercise 11 - Enumerate\n",
    "\n",
    "Copy and edit the above code to only read and print the third line of each file that starts with “test”.\n",
    "\n",
    "Print these lines only"
   ]
  },
  {
   "cell_type": "code",
   "execution_count": null,
   "metadata": {},
   "outputs": [],
   "source": []
  },
  {
   "cell_type": "markdown",
   "metadata": {},
   "source": [
    "# Exercise 12 - New List\n",
    "\n",
    "Copy and edit the above code to only read the third line of each file that starts with “test” and to add this line to a new list\n",
    "\n",
    "Print the full list once at the end of the script\n",
    "\n",
    "Note: if your list contains the new line character (“\\n”) this can be removed using strip()\n",
    "line = line.strip()  "
   ]
  },
  {
   "cell_type": "code",
   "execution_count": null,
   "metadata": {},
   "outputs": [],
   "source": []
  },
  {
   "cell_type": "markdown",
   "metadata": {},
   "source": [
    "# Exercise 13\n",
    "\n",
    "Example use the with statement to open and write a file that contains your list with each item on a new line\n",
    "\n",
    "TIPS\n",
    "You don’t need to make the list again, it’s still in the session from the previous exercise\n",
    "\n",
    "You’ll need to use with and for statements\n",
    "\n",
    "You’ll need to use the open function\n",
    "\n",
    "You’ll also need write. \n",
    "\n",
    "    “with open({new_file_name}, \"w\") as writefile:”    ### “w” for write\n",
    "\n",
    "Don’t forget a newline for each item on you line"
   ]
  },
  {
   "cell_type": "code",
   "execution_count": null,
   "metadata": {},
   "outputs": [],
   "source": []
  }
 ],
 "metadata": {
  "kernelspec": {
   "display_name": "Python 3",
   "language": "python",
   "name": "python3"
  },
  "language_info": {
   "codemirror_mode": {
    "name": "ipython",
    "version": 3
   },
   "file_extension": ".py",
   "mimetype": "text/x-python",
   "name": "python",
   "nbconvert_exporter": "python",
   "pygments_lexer": "ipython3",
   "version": "3.7.6"
  }
 },
 "nbformat": 4,
 "nbformat_minor": 4
}
